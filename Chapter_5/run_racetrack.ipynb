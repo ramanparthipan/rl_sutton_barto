{
 "cells": [
  {
   "cell_type": "markdown",
   "metadata": {},
   "source": [
    "Exercise 5.10: Racetrack (programming) Consider driving a race car around a turn like those shown in\n",
    "Figure 5.5. You want to go as fast as possible, but not so fast as to run off the track. In our simplified\n",
    "racetrack, the car is at one of a discrete set of grid positions, the cells in the diagram. The velocity is\n",
    "also discrete, a number of grid cells moved horizontally and vertically per time step. The actions are\n",
    "increments to the velocity components. Each may be changed by +1, −1, or 0 in each step, for a total\n",
    "of nine (3 × 3) actions. Both velocity components are restricted to be nonnegative and less than 5,\n",
    "and they cannot both be zero except at the starting line. Each episode begins in one of the randomly\n",
    "selected start states with both velocity components zero and ends when the car crosses the finish line.\n",
    "The rewards are −1 for each step until the car crosses the finish line. If the car hits the track boundary,\n",
    "it is moved back to a random position on the starting line, both velocity components are reduced to\n",
    "zero, and the episode continues. Before updating the car’s location at each time step, check to see if\n",
    "the projected path of the car intersects the track boundary. If it intersects the finish line, the episode\n",
    "ends; if it intersects anywhere else, the car is considered to have hit the track boundary and is sent\n",
    "back to the starting line. To make the task more challenging, with probability 0.1 at each time step\n",
    "the velocity increments are both zero, independently of the intended increments.\n",
    "\n",
    "Apply a Monte Carlo control method to this task to compute the optimal policy from each starting state. Exhibit several\n",
    "trajectories following the optimal policy (but turn the noise off for these trajectories)."
   ]
  }
 ],
 "metadata": {
  "language_info": {
   "name": "python"
  },
  "orig_nbformat": 4
 },
 "nbformat": 4,
 "nbformat_minor": 2
}
